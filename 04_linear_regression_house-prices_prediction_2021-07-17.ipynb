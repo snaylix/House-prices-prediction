{
 "cells": [
  {
   "cell_type": "markdown",
   "metadata": {},
   "source": [
    "# House Price Prediction - 04 - Linear Regression"
   ]
  },
  {
   "cell_type": "code",
   "execution_count": 1,
   "metadata": {},
   "outputs": [],
   "source": [
    "import pandas as pd\n",
    "import matplotlib.pyplot as plt\n",
    "import seaborn as sns\n",
    "import numpy as np\n",
    "\n",
    "from sklearn.model_selection import train_test_split\n",
    "from sklearn.linear_model import LinearRegression\n",
    "from sklearn.metrics import mean_squared_error, r2_score, make_scorer"
   ]
  },
  {
   "cell_type": "code",
   "execution_count": 2,
   "metadata": {},
   "outputs": [],
   "source": [
    "sns.set(rc={\"figure.figsize\":(16, 9)})"
   ]
  },
  {
   "cell_type": "code",
   "execution_count": 3,
   "metadata": {},
   "outputs": [],
   "source": [
    "df_train = pd.read_csv(\"data/train.csv\")"
   ]
  },
  {
   "cell_type": "code",
   "execution_count": 4,
   "metadata": {},
   "outputs": [
    {
     "data": {
      "text/html": [
       "<div>\n",
       "<style scoped>\n",
       "    .dataframe tbody tr th:only-of-type {\n",
       "        vertical-align: middle;\n",
       "    }\n",
       "\n",
       "    .dataframe tbody tr th {\n",
       "        vertical-align: top;\n",
       "    }\n",
       "\n",
       "    .dataframe thead th {\n",
       "        text-align: right;\n",
       "    }\n",
       "</style>\n",
       "<table border=\"1\" class=\"dataframe\">\n",
       "  <thead>\n",
       "    <tr style=\"text-align: right;\">\n",
       "      <th></th>\n",
       "      <th>Id</th>\n",
       "      <th>MSSubClass</th>\n",
       "      <th>MSZoning</th>\n",
       "      <th>LotFrontage</th>\n",
       "      <th>LotArea</th>\n",
       "      <th>Street</th>\n",
       "      <th>Alley</th>\n",
       "      <th>LotShape</th>\n",
       "      <th>LandContour</th>\n",
       "      <th>Utilities</th>\n",
       "      <th>...</th>\n",
       "      <th>PoolArea</th>\n",
       "      <th>PoolQC</th>\n",
       "      <th>Fence</th>\n",
       "      <th>MiscFeature</th>\n",
       "      <th>MiscVal</th>\n",
       "      <th>MoSold</th>\n",
       "      <th>YrSold</th>\n",
       "      <th>SaleType</th>\n",
       "      <th>SaleCondition</th>\n",
       "      <th>SalePrice</th>\n",
       "    </tr>\n",
       "  </thead>\n",
       "  <tbody>\n",
       "    <tr>\n",
       "      <th>0</th>\n",
       "      <td>1</td>\n",
       "      <td>60</td>\n",
       "      <td>RL</td>\n",
       "      <td>65.0</td>\n",
       "      <td>8450</td>\n",
       "      <td>Pave</td>\n",
       "      <td>NaN</td>\n",
       "      <td>Reg</td>\n",
       "      <td>Lvl</td>\n",
       "      <td>AllPub</td>\n",
       "      <td>...</td>\n",
       "      <td>0</td>\n",
       "      <td>NaN</td>\n",
       "      <td>NaN</td>\n",
       "      <td>NaN</td>\n",
       "      <td>0</td>\n",
       "      <td>2</td>\n",
       "      <td>2008</td>\n",
       "      <td>WD</td>\n",
       "      <td>Normal</td>\n",
       "      <td>208500</td>\n",
       "    </tr>\n",
       "    <tr>\n",
       "      <th>1</th>\n",
       "      <td>2</td>\n",
       "      <td>20</td>\n",
       "      <td>RL</td>\n",
       "      <td>80.0</td>\n",
       "      <td>9600</td>\n",
       "      <td>Pave</td>\n",
       "      <td>NaN</td>\n",
       "      <td>Reg</td>\n",
       "      <td>Lvl</td>\n",
       "      <td>AllPub</td>\n",
       "      <td>...</td>\n",
       "      <td>0</td>\n",
       "      <td>NaN</td>\n",
       "      <td>NaN</td>\n",
       "      <td>NaN</td>\n",
       "      <td>0</td>\n",
       "      <td>5</td>\n",
       "      <td>2007</td>\n",
       "      <td>WD</td>\n",
       "      <td>Normal</td>\n",
       "      <td>181500</td>\n",
       "    </tr>\n",
       "    <tr>\n",
       "      <th>2</th>\n",
       "      <td>3</td>\n",
       "      <td>60</td>\n",
       "      <td>RL</td>\n",
       "      <td>68.0</td>\n",
       "      <td>11250</td>\n",
       "      <td>Pave</td>\n",
       "      <td>NaN</td>\n",
       "      <td>IR1</td>\n",
       "      <td>Lvl</td>\n",
       "      <td>AllPub</td>\n",
       "      <td>...</td>\n",
       "      <td>0</td>\n",
       "      <td>NaN</td>\n",
       "      <td>NaN</td>\n",
       "      <td>NaN</td>\n",
       "      <td>0</td>\n",
       "      <td>9</td>\n",
       "      <td>2008</td>\n",
       "      <td>WD</td>\n",
       "      <td>Normal</td>\n",
       "      <td>223500</td>\n",
       "    </tr>\n",
       "    <tr>\n",
       "      <th>3</th>\n",
       "      <td>4</td>\n",
       "      <td>70</td>\n",
       "      <td>RL</td>\n",
       "      <td>60.0</td>\n",
       "      <td>9550</td>\n",
       "      <td>Pave</td>\n",
       "      <td>NaN</td>\n",
       "      <td>IR1</td>\n",
       "      <td>Lvl</td>\n",
       "      <td>AllPub</td>\n",
       "      <td>...</td>\n",
       "      <td>0</td>\n",
       "      <td>NaN</td>\n",
       "      <td>NaN</td>\n",
       "      <td>NaN</td>\n",
       "      <td>0</td>\n",
       "      <td>2</td>\n",
       "      <td>2006</td>\n",
       "      <td>WD</td>\n",
       "      <td>Abnorml</td>\n",
       "      <td>140000</td>\n",
       "    </tr>\n",
       "    <tr>\n",
       "      <th>4</th>\n",
       "      <td>5</td>\n",
       "      <td>60</td>\n",
       "      <td>RL</td>\n",
       "      <td>84.0</td>\n",
       "      <td>14260</td>\n",
       "      <td>Pave</td>\n",
       "      <td>NaN</td>\n",
       "      <td>IR1</td>\n",
       "      <td>Lvl</td>\n",
       "      <td>AllPub</td>\n",
       "      <td>...</td>\n",
       "      <td>0</td>\n",
       "      <td>NaN</td>\n",
       "      <td>NaN</td>\n",
       "      <td>NaN</td>\n",
       "      <td>0</td>\n",
       "      <td>12</td>\n",
       "      <td>2008</td>\n",
       "      <td>WD</td>\n",
       "      <td>Normal</td>\n",
       "      <td>250000</td>\n",
       "    </tr>\n",
       "  </tbody>\n",
       "</table>\n",
       "<p>5 rows × 81 columns</p>\n",
       "</div>"
      ],
      "text/plain": [
       "   Id  MSSubClass MSZoning  LotFrontage  LotArea Street Alley LotShape  \\\n",
       "0   1          60       RL         65.0     8450   Pave   NaN      Reg   \n",
       "1   2          20       RL         80.0     9600   Pave   NaN      Reg   \n",
       "2   3          60       RL         68.0    11250   Pave   NaN      IR1   \n",
       "3   4          70       RL         60.0     9550   Pave   NaN      IR1   \n",
       "4   5          60       RL         84.0    14260   Pave   NaN      IR1   \n",
       "\n",
       "  LandContour Utilities  ... PoolArea PoolQC Fence MiscFeature MiscVal MoSold  \\\n",
       "0         Lvl    AllPub  ...        0    NaN   NaN         NaN       0      2   \n",
       "1         Lvl    AllPub  ...        0    NaN   NaN         NaN       0      5   \n",
       "2         Lvl    AllPub  ...        0    NaN   NaN         NaN       0      9   \n",
       "3         Lvl    AllPub  ...        0    NaN   NaN         NaN       0      2   \n",
       "4         Lvl    AllPub  ...        0    NaN   NaN         NaN       0     12   \n",
       "\n",
       "  YrSold  SaleType  SaleCondition  SalePrice  \n",
       "0   2008        WD         Normal     208500  \n",
       "1   2007        WD         Normal     181500  \n",
       "2   2008        WD         Normal     223500  \n",
       "3   2006        WD        Abnorml     140000  \n",
       "4   2008        WD         Normal     250000  \n",
       "\n",
       "[5 rows x 81 columns]"
      ]
     },
     "execution_count": 4,
     "metadata": {},
     "output_type": "execute_result"
    }
   ],
   "source": [
    "df_train.head()"
   ]
  },
  {
   "cell_type": "code",
   "execution_count": 5,
   "metadata": {},
   "outputs": [
    {
     "data": {
      "text/plain": [
       "Index(['Id', 'MSSubClass', 'MSZoning', 'LotFrontage', 'LotArea', 'Street',\n",
       "       'Alley', 'LotShape', 'LandContour', 'Utilities', 'LotConfig',\n",
       "       'LandSlope', 'Neighborhood', 'Condition1', 'Condition2', 'BldgType',\n",
       "       'HouseStyle', 'OverallQual', 'OverallCond', 'YearBuilt', 'YearRemodAdd',\n",
       "       'RoofStyle', 'RoofMatl', 'Exterior1st', 'Exterior2nd', 'MasVnrType',\n",
       "       'MasVnrArea', 'ExterQual', 'ExterCond', 'Foundation', 'BsmtQual',\n",
       "       'BsmtCond', 'BsmtExposure', 'BsmtFinType1', 'BsmtFinSF1',\n",
       "       'BsmtFinType2', 'BsmtFinSF2', 'BsmtUnfSF', 'TotalBsmtSF', 'Heating',\n",
       "       'HeatingQC', 'CentralAir', 'Electrical', '1stFlrSF', '2ndFlrSF',\n",
       "       'LowQualFinSF', 'GrLivArea', 'BsmtFullBath', 'BsmtHalfBath', 'FullBath',\n",
       "       'HalfBath', 'BedroomAbvGr', 'KitchenAbvGr', 'KitchenQual',\n",
       "       'TotRmsAbvGrd', 'Functional', 'Fireplaces', 'FireplaceQu', 'GarageType',\n",
       "       'GarageYrBlt', 'GarageFinish', 'GarageCars', 'GarageArea', 'GarageQual',\n",
       "       'GarageCond', 'PavedDrive', 'WoodDeckSF', 'OpenPorchSF',\n",
       "       'EnclosedPorch', '3SsnPorch', 'ScreenPorch', 'PoolArea', 'PoolQC',\n",
       "       'Fence', 'MiscFeature', 'MiscVal', 'MoSold', 'YrSold', 'SaleType',\n",
       "       'SaleCondition', 'SalePrice'],\n",
       "      dtype='object')"
      ]
     },
     "execution_count": 5,
     "metadata": {},
     "output_type": "execute_result"
    }
   ],
   "source": [
    "df_train.columns"
   ]
  },
  {
   "cell_type": "markdown",
   "metadata": {},
   "source": [
    "#### Drop ID column (no duplicates) "
   ]
  },
  {
   "cell_type": "code",
   "execution_count": 6,
   "metadata": {},
   "outputs": [],
   "source": [
    "df_train.drop(['Id'], axis=1, inplace=True)"
   ]
  },
  {
   "cell_type": "markdown",
   "metadata": {},
   "source": [
    "#### Imputation "
   ]
  },
  {
   "cell_type": "code",
   "execution_count": 7,
   "metadata": {},
   "outputs": [],
   "source": [
    "values = {'Alley': 'No alley access', 'MiscFeature': 'None', 'PoolQC': 'No Pool',\n",
    "          'Fence': 'No Fence', 'FireplaceQu': 'No Fireplace', 'LotFrontage': 'No Lotfrontage',\n",
    "         'GarageYrBlt': ' No Garage', 'GarageCond': ' No Garage', 'GarageType': ' No Garage',\n",
    "          'GarageFinish': ' No Garage', 'GarageQual': ' No Garage', 'BsmtQual': 'No Basement',\n",
    "          'BsmtCond': 'No Basement', 'BsmtExposure': 'No Basement', 'BsmtFinType1': 'No Basement',\n",
    "          'BsmtFinType2': 'No Basement', 'MasVnrType': 'None', 'MasVnrArea': 'None', }\n",
    "\n",
    "df_train.fillna(value=values, inplace=True)\n",
    "df_train.Electrical.fillna(df_train.Electrical.mode()[0], inplace=True)"
   ]
  },
  {
   "cell_type": "code",
   "execution_count": 8,
   "metadata": {},
   "outputs": [
    {
     "data": {
      "text/plain": [
       "0"
      ]
     },
     "execution_count": 8,
     "metadata": {},
     "output_type": "execute_result"
    }
   ],
   "source": [
    "df_train.isnull().sum().sum()"
   ]
  },
  {
   "cell_type": "markdown",
   "metadata": {},
   "source": [
    "#### Outliers"
   ]
  },
  {
   "cell_type": "markdown",
   "metadata": {},
   "source": [
    "From the documentation: \"I would recommend removing any houses with more than \n",
    "4000 square feet from the data set (which eliminates these five unusual observations) \n",
    "before assigning it to students.\"\n",
    "\n",
    "http://jse.amstat.org/v19n3/decock.pdf"
   ]
  },
  {
   "cell_type": "code",
   "execution_count": 9,
   "metadata": {},
   "outputs": [
    {
     "data": {
      "text/html": [
       "<div>\n",
       "<style scoped>\n",
       "    .dataframe tbody tr th:only-of-type {\n",
       "        vertical-align: middle;\n",
       "    }\n",
       "\n",
       "    .dataframe tbody tr th {\n",
       "        vertical-align: top;\n",
       "    }\n",
       "\n",
       "    .dataframe thead th {\n",
       "        text-align: right;\n",
       "    }\n",
       "</style>\n",
       "<table border=\"1\" class=\"dataframe\">\n",
       "  <thead>\n",
       "    <tr style=\"text-align: right;\">\n",
       "      <th></th>\n",
       "      <th>GrLivArea</th>\n",
       "      <th>SalePrice</th>\n",
       "    </tr>\n",
       "  </thead>\n",
       "  <tbody>\n",
       "    <tr>\n",
       "      <th>523</th>\n",
       "      <td>4676</td>\n",
       "      <td>184750</td>\n",
       "    </tr>\n",
       "    <tr>\n",
       "      <th>691</th>\n",
       "      <td>4316</td>\n",
       "      <td>755000</td>\n",
       "    </tr>\n",
       "    <tr>\n",
       "      <th>1182</th>\n",
       "      <td>4476</td>\n",
       "      <td>745000</td>\n",
       "    </tr>\n",
       "    <tr>\n",
       "      <th>1298</th>\n",
       "      <td>5642</td>\n",
       "      <td>160000</td>\n",
       "    </tr>\n",
       "  </tbody>\n",
       "</table>\n",
       "</div>"
      ],
      "text/plain": [
       "      GrLivArea  SalePrice\n",
       "523        4676     184750\n",
       "691        4316     755000\n",
       "1182       4476     745000\n",
       "1298       5642     160000"
      ]
     },
     "execution_count": 9,
     "metadata": {},
     "output_type": "execute_result"
    }
   ],
   "source": [
    "df_train[df_train.GrLivArea > 4000][['GrLivArea', 'SalePrice']]"
   ]
  },
  {
   "cell_type": "code",
   "execution_count": 10,
   "metadata": {},
   "outputs": [
    {
     "data": {
      "image/png": "[encoded data removed]",
      "text/plain": [
       "<Figure size 1152x648 with 1 Axes>"
      ]
     },
     "metadata": {},
     "output_type": "display_data"
    }
   ],
   "source": [
    "plt.scatter(df_train.GrLivArea, df_train.SalePrice)\n",
    "plt.title(\"Outliers\")\n",
    "plt.xlabel('GrLivArea (Above grade ground living area square feet)')\n",
    "plt.ylabel('SalePrice')\n",
    "plt.savefig(\"plots/outliers.png\", bbox_inches='tight')"
   ]
  },
  {
   "cell_type": "code",
   "execution_count": 11,
   "metadata": {},
   "outputs": [],
   "source": [
    "df_train = df_train[df_train['GrLivArea'] < 4000]"
   ]
  },
  {
   "cell_type": "markdown",
   "metadata": {},
   "source": [
    "#### Log-Transformation of the dependent variable "
   ]
  },
  {
   "cell_type": "code",
   "execution_count": 12,
   "metadata": {},
   "outputs": [],
   "source": [
    "df_train.SalePrice = np.log(df_train.SalePrice)"
   ]
  },
  {
   "cell_type": "markdown",
   "metadata": {},
   "source": [
    "#### Converting `MSSubClass` and `MoSold` from numerical to categorical data"
   ]
  },
  {
   "cell_type": "code",
   "execution_count": 13,
   "metadata": {},
   "outputs": [],
   "source": [
    "subclass_dict = {20: \"1-STORY 1946 & NEWER ALL STYLES\",\n",
    "                 30: \"1-STORY 1945 & OLDER\",\n",
    "                 40: \"1-STORY W/FINISHED ATTIC ALL AGES\",\n",
    "                 45: \"1-1/2 STORY - UNFINISHED ALL AGES\",\n",
    "                 50: \"1-1/2 STORY FINISHED ALL AGES\",\n",
    "                 60: \"2-STORY 1946 & NEWER\",\n",
    "                 70: \"2-STORY 1945 & OLDER\",\n",
    "                 75: \"2-1/2 STORY ALL AGES\",\n",
    "                 80: \"SPLIT OR MULTI-LEVEL\",\n",
    "                 85: \"SPLIT FOYER\",\n",
    "                 90: \"DUPLEX - ALL STYLES AND AGES\",\n",
    "                 120: \"1-STORY PUD (Planned Unit Development) - 1946 & NEWER\",\n",
    "                 150: \"1-1/2 STORY PUD - ALL AGES\",\n",
    "                 160: \"2-STORY PUD - 1946 & NEWER\",\n",
    "                 180: \"PUD - MULTILEVEL - INCL SPLIT LEV/FOYER\",\n",
    "                 190: \"2 FAMILY CONVERSION - ALL STYLES AND AGES\"}\n",
    "df_train.MSSubClass = df_train.MSSubClass.map(subclass_dict)\n",
    "df_train.MoSold = df_train.MoSold.astype(str)"
   ]
  },
  {
   "cell_type": "markdown",
   "metadata": {},
   "source": [
    "#### Converting categorical to ordinal data"
   ]
  },
  {
   "cell_type": "code",
   "execution_count": 14,
   "metadata": {},
   "outputs": [],
   "source": [
    "df_train.replace({\"Street\": {\"Grvl\": 0, \"Pave\": 1}}, inplace=True)"
   ]
  },
  {
   "cell_type": "markdown",
   "metadata": {},
   "source": [
    "#### Features most correlated to SalePrice "
   ]
  },
  {
   "cell_type": "code",
   "execution_count": 15,
   "metadata": {},
   "outputs": [
    {
     "data": {
      "text/html": [
       "<div>\n",
       "<style scoped>\n",
       "    .dataframe tbody tr th:only-of-type {\n",
       "        vertical-align: middle;\n",
       "    }\n",
       "\n",
       "    .dataframe tbody tr th {\n",
       "        vertical-align: top;\n",
       "    }\n",
       "\n",
       "    .dataframe thead th {\n",
       "        text-align: right;\n",
       "    }\n",
       "</style>\n",
       "<table border=\"1\" class=\"dataframe\">\n",
       "  <thead>\n",
       "    <tr style=\"text-align: right;\">\n",
       "      <th></th>\n",
       "      <th>SalePrice</th>\n",
       "    </tr>\n",
       "  </thead>\n",
       "  <tbody>\n",
       "    <tr>\n",
       "      <th>SalePrice</th>\n",
       "      <td>1.000000</td>\n",
       "    </tr>\n",
       "    <tr>\n",
       "      <th>OverallQual</th>\n",
       "      <td>0.819240</td>\n",
       "    </tr>\n",
       "    <tr>\n",
       "      <th>GrLivArea</th>\n",
       "      <td>0.718844</td>\n",
       "    </tr>\n",
       "    <tr>\n",
       "      <th>GarageCars</th>\n",
       "      <td>0.680408</td>\n",
       "    </tr>\n",
       "    <tr>\n",
       "      <th>GarageArea</th>\n",
       "      <td>0.655211</td>\n",
       "    </tr>\n",
       "    <tr>\n",
       "      <th>TotalBsmtSF</th>\n",
       "      <td>0.641553</td>\n",
       "    </tr>\n",
       "    <tr>\n",
       "      <th>1stFlrSF</th>\n",
       "      <td>0.613742</td>\n",
       "    </tr>\n",
       "    <tr>\n",
       "      <th>FullBath</th>\n",
       "      <td>0.590919</td>\n",
       "    </tr>\n",
       "    <tr>\n",
       "      <th>YearBuilt</th>\n",
       "      <td>0.588977</td>\n",
       "    </tr>\n",
       "    <tr>\n",
       "      <th>YearRemodAdd</th>\n",
       "      <td>0.568986</td>\n",
       "    </tr>\n",
       "    <tr>\n",
       "      <th>TotRmsAbvGrd</th>\n",
       "      <td>0.533446</td>\n",
       "    </tr>\n",
       "    <tr>\n",
       "      <th>Fireplaces</th>\n",
       "      <td>0.487126</td>\n",
       "    </tr>\n",
       "    <tr>\n",
       "      <th>BsmtFinSF1</th>\n",
       "      <td>0.382710</td>\n",
       "    </tr>\n",
       "    <tr>\n",
       "      <th>WoodDeckSF</th>\n",
       "      <td>0.330573</td>\n",
       "    </tr>\n",
       "    <tr>\n",
       "      <th>OpenPorchSF</th>\n",
       "      <td>0.327038</td>\n",
       "    </tr>\n",
       "    <tr>\n",
       "      <th>HalfBath</th>\n",
       "      <td>0.311191</td>\n",
       "    </tr>\n",
       "    <tr>\n",
       "      <th>2ndFlrSF</th>\n",
       "      <td>0.306605</td>\n",
       "    </tr>\n",
       "    <tr>\n",
       "      <th>LotArea</th>\n",
       "      <td>0.258945</td>\n",
       "    </tr>\n",
       "    <tr>\n",
       "      <th>BsmtFullBath</th>\n",
       "      <td>0.238851</td>\n",
       "    </tr>\n",
       "    <tr>\n",
       "      <th>BsmtUnfSF</th>\n",
       "      <td>0.223248</td>\n",
       "    </tr>\n",
       "    <tr>\n",
       "      <th>BedroomAbvGr</th>\n",
       "      <td>0.204117</td>\n",
       "    </tr>\n",
       "    <tr>\n",
       "      <th>ScreenPorch</th>\n",
       "      <td>0.123860</td>\n",
       "    </tr>\n",
       "    <tr>\n",
       "      <th>Street</th>\n",
       "      <td>0.057595</td>\n",
       "    </tr>\n",
       "    <tr>\n",
       "      <th>3SsnPorch</th>\n",
       "      <td>0.056065</td>\n",
       "    </tr>\n",
       "    <tr>\n",
       "      <th>PoolArea</th>\n",
       "      <td>0.040679</td>\n",
       "    </tr>\n",
       "    <tr>\n",
       "      <th>BsmtFinSF2</th>\n",
       "      <td>0.006420</td>\n",
       "    </tr>\n",
       "    <tr>\n",
       "      <th>BsmtHalfBath</th>\n",
       "      <td>-0.014974</td>\n",
       "    </tr>\n",
       "    <tr>\n",
       "      <th>MiscVal</th>\n",
       "      <td>-0.019752</td>\n",
       "    </tr>\n",
       "    <tr>\n",
       "      <th>YrSold</th>\n",
       "      <td>-0.034319</td>\n",
       "    </tr>\n",
       "    <tr>\n",
       "      <th>OverallCond</th>\n",
       "      <td>-0.036843</td>\n",
       "    </tr>\n",
       "    <tr>\n",
       "      <th>LowQualFinSF</th>\n",
       "      <td>-0.037698</td>\n",
       "    </tr>\n",
       "    <tr>\n",
       "      <th>KitchenAbvGr</th>\n",
       "      <td>-0.147890</td>\n",
       "    </tr>\n",
       "    <tr>\n",
       "      <th>EnclosedPorch</th>\n",
       "      <td>-0.148636</td>\n",
       "    </tr>\n",
       "  </tbody>\n",
       "</table>\n",
       "</div>"
      ],
      "text/plain": [
       "               SalePrice\n",
       "SalePrice       1.000000\n",
       "OverallQual     0.819240\n",
       "GrLivArea       0.718844\n",
       "GarageCars      0.680408\n",
       "GarageArea      0.655211\n",
       "TotalBsmtSF     0.641553\n",
       "1stFlrSF        0.613742\n",
       "FullBath        0.590919\n",
       "YearBuilt       0.588977\n",
       "YearRemodAdd    0.568986\n",
       "TotRmsAbvGrd    0.533446\n",
       "Fireplaces      0.487126\n",
       "BsmtFinSF1      0.382710\n",
       "WoodDeckSF      0.330573\n",
       "OpenPorchSF     0.327038\n",
       "HalfBath        0.311191\n",
       "2ndFlrSF        0.306605\n",
       "LotArea         0.258945\n",
       "BsmtFullBath    0.238851\n",
       "BsmtUnfSF       0.223248\n",
       "BedroomAbvGr    0.204117\n",
       "ScreenPorch     0.123860\n",
       "Street          0.057595\n",
       "3SsnPorch       0.056065\n",
       "PoolArea        0.040679\n",
       "BsmtFinSF2      0.006420\n",
       "BsmtHalfBath   -0.014974\n",
       "MiscVal        -0.019752\n",
       "YrSold         -0.034319\n",
       "OverallCond    -0.036843\n",
       "LowQualFinSF   -0.037698\n",
       "KitchenAbvGr   -0.147890\n",
       "EnclosedPorch  -0.148636"
      ]
     },
     "execution_count": 15,
     "metadata": {},
     "output_type": "execute_result"
    }
   ],
   "source": [
    "df_train.corr()[['SalePrice']].sort_values(by='SalePrice', ascending=False)"
   ]
  },
  {
   "cell_type": "markdown",
   "metadata": {},
   "source": [
    "#### Modelling "
   ]
  },
  {
   "cell_type": "code",
   "execution_count": 16,
   "metadata": {},
   "outputs": [],
   "source": [
    "# features = ['OverallQual', 'GrLivArea', 'GarageCars', 'GarageArea', 'TotalBsmtSF', '1stFlrSF', \n",
    "#            'FullBath', 'TotRmsAbvGrd', 'YearBuilt', 'YearRemodAdd', 'Fireplaces']\n",
    "\n",
    "features = df_train.corr()[['SalePrice']].sort_values(by='SalePrice', ascending=False).index[1:]"
   ]
  },
  {
   "cell_type": "code",
   "execution_count": 17,
   "metadata": {},
   "outputs": [
    {
     "name": "stdout",
     "output_type": "stream",
     "text": [
      "OverallQual\n",
      "mean squared error: 0 - Coefficient of determination: 0.71\n",
      "\n",
      "GrLivArea\n",
      "mean squared error: 0 - Coefficient of determination: 0.56\n",
      "\n",
      "GarageCars\n",
      "mean squared error: 0 - Coefficient of determination: 0.42\n",
      "\n",
      "GarageArea\n",
      "mean squared error: 0 - Coefficient of determination: 0.40\n",
      "\n",
      "TotalBsmtSF\n",
      "mean squared error: 0 - Coefficient of determination: 0.44\n",
      "\n",
      "1stFlrSF\n",
      "mean squared error: 0 - Coefficient of determination: 0.39\n",
      "\n",
      "FullBath\n",
      "mean squared error: 0 - Coefficient of determination: 0.34\n",
      "\n",
      "YearBuilt\n",
      "mean squared error: 0 - Coefficient of determination: 0.38\n",
      "\n",
      "YearRemodAdd\n",
      "mean squared error: 0 - Coefficient of determination: 0.34\n",
      "\n",
      "TotRmsAbvGrd\n",
      "mean squared error: 0 - Coefficient of determination: 0.31\n",
      "\n",
      "Fireplaces\n",
      "mean squared error: 0 - Coefficient of determination: 0.23\n",
      "\n",
      "BsmtFinSF1\n",
      "mean squared error: 0 - Coefficient of determination: 0.13\n",
      "\n",
      "WoodDeckSF\n",
      "mean squared error: 0 - Coefficient of determination: 0.13\n",
      "\n",
      "OpenPorchSF\n",
      "mean squared error: 0 - Coefficient of determination: 0.10\n",
      "\n",
      "HalfBath\n",
      "mean squared error: 0 - Coefficient of determination: 0.12\n",
      "\n",
      "2ndFlrSF\n",
      "mean squared error: 0 - Coefficient of determination: 0.12\n",
      "\n",
      "LotArea\n",
      "mean squared error: 0 - Coefficient of determination: 0.07\n",
      "\n",
      "BsmtFullBath\n",
      "mean squared error: 0 - Coefficient of determination: 0.06\n",
      "\n",
      "BsmtUnfSF\n",
      "mean squared error: 0 - Coefficient of determination: 0.07\n",
      "\n",
      "BedroomAbvGr\n",
      "mean squared error: 0 - Coefficient of determination: 0.04\n",
      "\n",
      "ScreenPorch\n",
      "mean squared error: 0 - Coefficient of determination: 0.01\n",
      "\n",
      "Street\n",
      "mean squared error: 0 - Coefficient of determination: 0.00\n",
      "\n",
      "3SsnPorch\n",
      "mean squared error: 0 - Coefficient of determination: -0.01\n",
      "\n",
      "PoolArea\n",
      "mean squared error: 0 - Coefficient of determination: -0.00\n",
      "\n",
      "BsmtFinSF2\n",
      "mean squared error: 0 - Coefficient of determination: -0.00\n",
      "\n",
      "BsmtHalfBath\n",
      "mean squared error: 0 - Coefficient of determination: -0.00\n",
      "\n",
      "MiscVal\n",
      "mean squared error: 0 - Coefficient of determination: -0.00\n",
      "\n",
      "YrSold\n",
      "mean squared error: 0 - Coefficient of determination: -0.00\n",
      "\n",
      "OverallCond\n",
      "mean squared error: 0 - Coefficient of determination: -0.00\n",
      "\n",
      "LowQualFinSF\n",
      "mean squared error: 0 - Coefficient of determination: 0.00\n",
      "\n",
      "KitchenAbvGr\n",
      "mean squared error: 0 - Coefficient of determination: 0.02\n",
      "\n",
      "EnclosedPorch\n",
      "mean squared error: 0 - Coefficient of determination: 0.00\n",
      "\n"
     ]
    }
   ],
   "source": [
    "def iterate_model_features(features):\n",
    "    for feature in features:\n",
    "        X_train, X_test, y_train, y_test = train_test_split(df_train[[feature]], df_train.SalePrice,\n",
    "                                                        test_size = 0.25, random_state = 0)\n",
    "        model_lr = LinearRegression()\n",
    "        model_lr.fit(X_train, y_train)\n",
    "        y_train_pred = model_lr.predict(X_train)\n",
    "        y_test_pred = model_lr.predict(X_test)\n",
    "        print(feature)\n",
    "        print(f'mean squared error: %.0f'\n",
    "          % mean_squared_error(y_test, y_test_pred), end='')\n",
    "        print(' - Coefficient of determination: %.2f'\n",
    "          % r2_score(y_test, y_test_pred), end='\\n\\n')\n",
    "    \n",
    "iterate_model_features(features=features)"
   ]
  },
  {
   "cell_type": "code",
   "execution_count": 27,
   "metadata": {},
   "outputs": [
    {
     "name": "stdout",
     "output_type": "stream",
     "text": [
      "Index(['OverallQual'], dtype='object')\n",
      "mean squared error: 0.04517 - Coefficient of determination: 0.71\n",
      "\n",
      "Index(['OverallQual', 'GrLivArea'], dtype='object')\n",
      "mean squared error: 0.03216 - Coefficient of determination: 0.80\n",
      "\n",
      "Index(['OverallQual', 'GrLivArea', 'GarageCars'], dtype='object')\n",
      "mean squared error: 0.02784 - Coefficient of determination: 0.82\n",
      "\n",
      "Index(['OverallQual', 'GrLivArea', 'GarageCars', 'GarageArea'], dtype='object')\n",
      "mean squared error: 0.02737 - Coefficient of determination: 0.83\n",
      "\n",
      "Index(['OverallQual', 'GrLivArea', 'GarageCars', 'GarageArea', 'TotalBsmtSF'], dtype='object')\n",
      "mean squared error: 0.02342 - Coefficient of determination: 0.85\n",
      "\n",
      "Index(['OverallQual', 'GrLivArea', 'GarageCars', 'GarageArea', 'TotalBsmtSF',\n",
      "       '1stFlrSF'],\n",
      "      dtype='object')\n",
      "mean squared error: 0.02340 - Coefficient of determination: 0.85\n",
      "\n",
      "Index(['OverallQual', 'GrLivArea', 'GarageCars', 'GarageArea', 'TotalBsmtSF',\n",
      "       '1stFlrSF', 'FullBath'],\n",
      "      dtype='object')\n",
      "mean squared error: 0.02341 - Coefficient of determination: 0.85\n",
      "\n",
      "Index(['OverallQual', 'GrLivArea', 'GarageCars', 'GarageArea', 'TotalBsmtSF',\n",
      "       '1stFlrSF', 'FullBath', 'YearBuilt'],\n",
      "      dtype='object')\n",
      "mean squared error: 0.02109 - Coefficient of determination: 0.87\n",
      "\n",
      "Index(['OverallQual', 'GrLivArea', 'GarageCars', 'GarageArea', 'TotalBsmtSF',\n",
      "       '1stFlrSF', 'FullBath', 'YearBuilt', 'YearRemodAdd'],\n",
      "      dtype='object')\n",
      "mean squared error: 0.01971 - Coefficient of determination: 0.87\n",
      "\n",
      "Index(['OverallQual', 'GrLivArea', 'GarageCars', 'GarageArea', 'TotalBsmtSF',\n",
      "       '1stFlrSF', 'FullBath', 'YearBuilt', 'YearRemodAdd', 'TotRmsAbvGrd'],\n",
      "      dtype='object')\n",
      "mean squared error: 0.01967 - Coefficient of determination: 0.87\n",
      "\n",
      "Index(['OverallQual', 'GrLivArea', 'GarageCars', 'GarageArea', 'TotalBsmtSF',\n",
      "       '1stFlrSF', 'FullBath', 'YearBuilt', 'YearRemodAdd', 'TotRmsAbvGrd',\n",
      "       'Fireplaces'],\n",
      "      dtype='object')\n",
      "mean squared error: 0.01844 - Coefficient of determination: 0.88\n",
      "\n",
      "Index(['OverallQual', 'GrLivArea', 'GarageCars', 'GarageArea', 'TotalBsmtSF',\n",
      "       '1stFlrSF', 'FullBath', 'YearBuilt', 'YearRemodAdd', 'TotRmsAbvGrd',\n",
      "       'Fireplaces', 'BsmtFinSF1'],\n",
      "      dtype='object')\n",
      "mean squared error: 0.01640 - Coefficient of determination: 0.90\n",
      "\n",
      "Index(['OverallQual', 'GrLivArea', 'GarageCars', 'GarageArea', 'TotalBsmtSF',\n",
      "       '1stFlrSF', 'FullBath', 'YearBuilt', 'YearRemodAdd', 'TotRmsAbvGrd',\n",
      "       'Fireplaces', 'BsmtFinSF1', 'WoodDeckSF'],\n",
      "      dtype='object')\n",
      "mean squared error: 0.01628 - Coefficient of determination: 0.90\n",
      "\n",
      "Index(['OverallQual', 'GrLivArea', 'GarageCars', 'GarageArea', 'TotalBsmtSF',\n",
      "       '1stFlrSF', 'FullBath', 'YearBuilt', 'YearRemodAdd', 'TotRmsAbvGrd',\n",
      "       'Fireplaces', 'BsmtFinSF1', 'WoodDeckSF', 'OpenPorchSF'],\n",
      "      dtype='object')\n",
      "mean squared error: 0.01622 - Coefficient of determination: 0.90\n",
      "\n",
      "Index(['OverallQual', 'GrLivArea', 'GarageCars', 'GarageArea', 'TotalBsmtSF',\n",
      "       '1stFlrSF', 'FullBath', 'YearBuilt', 'YearRemodAdd', 'TotRmsAbvGrd',\n",
      "       'Fireplaces', 'BsmtFinSF1', 'WoodDeckSF', 'OpenPorchSF', 'HalfBath'],\n",
      "      dtype='object')\n",
      "mean squared error: 0.01619 - Coefficient of determination: 0.90\n",
      "\n",
      "Index(['OverallQual', 'GrLivArea', 'GarageCars', 'GarageArea', 'TotalBsmtSF',\n",
      "       '1stFlrSF', 'FullBath', 'YearBuilt', 'YearRemodAdd', 'TotRmsAbvGrd',\n",
      "       'Fireplaces', 'BsmtFinSF1', 'WoodDeckSF', 'OpenPorchSF', 'HalfBath',\n",
      "       '2ndFlrSF'],\n",
      "      dtype='object')\n",
      "mean squared error: 0.01609 - Coefficient of determination: 0.90\n",
      "\n",
      "Index(['OverallQual', 'GrLivArea', 'GarageCars', 'GarageArea', 'TotalBsmtSF',\n",
      "       '1stFlrSF', 'FullBath', 'YearBuilt', 'YearRemodAdd', 'TotRmsAbvGrd',\n",
      "       'Fireplaces', 'BsmtFinSF1', 'WoodDeckSF', 'OpenPorchSF', 'HalfBath',\n",
      "       '2ndFlrSF', 'LotArea'],\n",
      "      dtype='object')\n",
      "mean squared error: 0.01546 - Coefficient of determination: 0.90\n",
      "\n",
      "Index(['OverallQual', 'GrLivArea', 'GarageCars', 'GarageArea', 'TotalBsmtSF',\n",
      "       '1stFlrSF', 'FullBath', 'YearBuilt', 'YearRemodAdd', 'TotRmsAbvGrd',\n",
      "       'Fireplaces', 'BsmtFinSF1', 'WoodDeckSF', 'OpenPorchSF', 'HalfBath',\n",
      "       '2ndFlrSF', 'LotArea', 'BsmtFullBath'],\n",
      "      dtype='object')\n",
      "mean squared error: 0.01550 - Coefficient of determination: 0.90\n",
      "\n",
      "Index(['OverallQual', 'GrLivArea', 'GarageCars', 'GarageArea', 'TotalBsmtSF',\n",
      "       '1stFlrSF', 'FullBath', 'YearBuilt', 'YearRemodAdd', 'TotRmsAbvGrd',\n",
      "       'Fireplaces', 'BsmtFinSF1', 'WoodDeckSF', 'OpenPorchSF', 'HalfBath',\n",
      "       '2ndFlrSF', 'LotArea', 'BsmtFullBath', 'BsmtUnfSF'],\n",
      "      dtype='object')\n",
      "mean squared error: 0.01539 - Coefficient of determination: 0.90\n",
      "\n",
      "Index(['OverallQual', 'GrLivArea', 'GarageCars', 'GarageArea', 'TotalBsmtSF',\n",
      "       '1stFlrSF', 'FullBath', 'YearBuilt', 'YearRemodAdd', 'TotRmsAbvGrd',\n",
      "       'Fireplaces', 'BsmtFinSF1', 'WoodDeckSF', 'OpenPorchSF', 'HalfBath',\n",
      "       '2ndFlrSF', 'LotArea', 'BsmtFullBath', 'BsmtUnfSF', 'BedroomAbvGr'],\n",
      "      dtype='object')\n",
      "mean squared error: 0.01538 - Coefficient of determination: 0.90\n",
      "\n",
      "Index(['OverallQual', 'GrLivArea', 'GarageCars', 'GarageArea', 'TotalBsmtSF',\n",
      "       '1stFlrSF', 'FullBath', 'YearBuilt', 'YearRemodAdd', 'TotRmsAbvGrd',\n",
      "       'Fireplaces', 'BsmtFinSF1', 'WoodDeckSF', 'OpenPorchSF', 'HalfBath',\n",
      "       '2ndFlrSF', 'LotArea', 'BsmtFullBath', 'BsmtUnfSF', 'BedroomAbvGr',\n",
      "       'ScreenPorch'],\n",
      "      dtype='object')\n",
      "mean squared error: 0.01527 - Coefficient of determination: 0.90\n",
      "\n",
      "Index(['OverallQual', 'GrLivArea', 'GarageCars', 'GarageArea', 'TotalBsmtSF',\n",
      "       '1stFlrSF', 'FullBath', 'YearBuilt', 'YearRemodAdd', 'TotRmsAbvGrd',\n",
      "       'Fireplaces', 'BsmtFinSF1', 'WoodDeckSF', 'OpenPorchSF', 'HalfBath',\n",
      "       '2ndFlrSF', 'LotArea', 'BsmtFullBath', 'BsmtUnfSF', 'BedroomAbvGr',\n",
      "       'ScreenPorch', 'Street'],\n",
      "      dtype='object')\n",
      "mean squared error: 0.01559 - Coefficient of determination: 0.90\n",
      "\n",
      "Index(['OverallQual', 'GrLivArea', 'GarageCars', 'GarageArea', 'TotalBsmtSF',\n",
      "       '1stFlrSF', 'FullBath', 'YearBuilt', 'YearRemodAdd', 'TotRmsAbvGrd',\n",
      "       'Fireplaces', 'BsmtFinSF1', 'WoodDeckSF', 'OpenPorchSF', 'HalfBath',\n",
      "       '2ndFlrSF', 'LotArea', 'BsmtFullBath', 'BsmtUnfSF', 'BedroomAbvGr',\n",
      "       'ScreenPorch', 'Street', '3SsnPorch'],\n",
      "      dtype='object')\n",
      "mean squared error: 0.01574 - Coefficient of determination: 0.90\n",
      "\n",
      "Index(['OverallQual', 'GrLivArea', 'GarageCars', 'GarageArea', 'TotalBsmtSF',\n",
      "       '1stFlrSF', 'FullBath', 'YearBuilt', 'YearRemodAdd', 'TotRmsAbvGrd',\n",
      "       'Fireplaces', 'BsmtFinSF1', 'WoodDeckSF', 'OpenPorchSF', 'HalfBath',\n",
      "       '2ndFlrSF', 'LotArea', 'BsmtFullBath', 'BsmtUnfSF', 'BedroomAbvGr',\n",
      "       'ScreenPorch', 'Street', '3SsnPorch', 'PoolArea'],\n",
      "      dtype='object')\n",
      "mean squared error: 0.01584 - Coefficient of determination: 0.90\n",
      "\n",
      "Index(['OverallQual', 'GrLivArea', 'GarageCars', 'GarageArea', 'TotalBsmtSF',\n",
      "       '1stFlrSF', 'FullBath', 'YearBuilt', 'YearRemodAdd', 'TotRmsAbvGrd',\n",
      "       'Fireplaces', 'BsmtFinSF1', 'WoodDeckSF', 'OpenPorchSF', 'HalfBath',\n",
      "       '2ndFlrSF', 'LotArea', 'BsmtFullBath', 'BsmtUnfSF', 'BedroomAbvGr',\n",
      "       'ScreenPorch', 'Street', '3SsnPorch', 'PoolArea', 'BsmtFinSF2'],\n",
      "      dtype='object')\n",
      "mean squared error: 0.01584 - Coefficient of determination: 0.90\n",
      "\n",
      "Index(['OverallQual', 'GrLivArea', 'GarageCars', 'GarageArea', 'TotalBsmtSF',\n",
      "       '1stFlrSF', 'FullBath', 'YearBuilt', 'YearRemodAdd', 'TotRmsAbvGrd',\n",
      "       'Fireplaces', 'BsmtFinSF1', 'WoodDeckSF', 'OpenPorchSF', 'HalfBath',\n",
      "       '2ndFlrSF', 'LotArea', 'BsmtFullBath', 'BsmtUnfSF', 'BedroomAbvGr',\n",
      "       'ScreenPorch', 'Street', '3SsnPorch', 'PoolArea', 'BsmtFinSF2',\n",
      "       'BsmtHalfBath'],\n",
      "      dtype='object')\n",
      "mean squared error: 0.01592 - Coefficient of determination: 0.90\n",
      "\n",
      "Index(['OverallQual', 'GrLivArea', 'GarageCars', 'GarageArea', 'TotalBsmtSF',\n",
      "       '1stFlrSF', 'FullBath', 'YearBuilt', 'YearRemodAdd', 'TotRmsAbvGrd',\n",
      "       'Fireplaces', 'BsmtFinSF1', 'WoodDeckSF', 'OpenPorchSF', 'HalfBath',\n",
      "       '2ndFlrSF', 'LotArea', 'BsmtFullBath', 'BsmtUnfSF', 'BedroomAbvGr',\n",
      "       'ScreenPorch', 'Street', '3SsnPorch', 'PoolArea', 'BsmtFinSF2',\n",
      "       'BsmtHalfBath', 'MiscVal'],\n",
      "      dtype='object')\n",
      "mean squared error: 0.01592 - Coefficient of determination: 0.90\n",
      "\n",
      "Index(['OverallQual', 'GrLivArea', 'GarageCars', 'GarageArea', 'TotalBsmtSF',\n",
      "       '1stFlrSF', 'FullBath', 'YearBuilt', 'YearRemodAdd', 'TotRmsAbvGrd',\n",
      "       'Fireplaces', 'BsmtFinSF1', 'WoodDeckSF', 'OpenPorchSF', 'HalfBath',\n",
      "       '2ndFlrSF', 'LotArea', 'BsmtFullBath', 'BsmtUnfSF', 'BedroomAbvGr',\n",
      "       'ScreenPorch', 'Street', '3SsnPorch', 'PoolArea', 'BsmtFinSF2',\n",
      "       'BsmtHalfBath', 'MiscVal', 'YrSold'],\n",
      "      dtype='object')\n",
      "mean squared error: 0.01596 - Coefficient of determination: 0.90\n",
      "\n",
      "Index(['OverallQual', 'GrLivArea', 'GarageCars', 'GarageArea', 'TotalBsmtSF',\n",
      "       '1stFlrSF', 'FullBath', 'YearBuilt', 'YearRemodAdd', 'TotRmsAbvGrd',\n",
      "       'Fireplaces', 'BsmtFinSF1', 'WoodDeckSF', 'OpenPorchSF', 'HalfBath',\n",
      "       '2ndFlrSF', 'LotArea', 'BsmtFullBath', 'BsmtUnfSF', 'BedroomAbvGr',\n",
      "       'ScreenPorch', 'Street', '3SsnPorch', 'PoolArea', 'BsmtFinSF2',\n",
      "       'BsmtHalfBath', 'MiscVal', 'YrSold', 'OverallCond'],\n",
      "      dtype='object')\n",
      "mean squared error: 0.01500 - Coefficient of determination: 0.90\n",
      "\n",
      "Index(['OverallQual', 'GrLivArea', 'GarageCars', 'GarageArea', 'TotalBsmtSF',\n",
      "       '1stFlrSF', 'FullBath', 'YearBuilt', 'YearRemodAdd', 'TotRmsAbvGrd',\n",
      "       'Fireplaces', 'BsmtFinSF1', 'WoodDeckSF', 'OpenPorchSF', 'HalfBath',\n",
      "       '2ndFlrSF', 'LotArea', 'BsmtFullBath', 'BsmtUnfSF', 'BedroomAbvGr',\n",
      "       'ScreenPorch', 'Street', '3SsnPorch', 'PoolArea', 'BsmtFinSF2',\n",
      "       'BsmtHalfBath', 'MiscVal', 'YrSold', 'OverallCond', 'LowQualFinSF'],\n",
      "      dtype='object')\n",
      "mean squared error: 0.01500 - Coefficient of determination: 0.90\n",
      "\n",
      "Index(['OverallQual', 'GrLivArea', 'GarageCars', 'GarageArea', 'TotalBsmtSF',\n",
      "       '1stFlrSF', 'FullBath', 'YearBuilt', 'YearRemodAdd', 'TotRmsAbvGrd',\n",
      "       'Fireplaces', 'BsmtFinSF1', 'WoodDeckSF', 'OpenPorchSF', 'HalfBath',\n",
      "       '2ndFlrSF', 'LotArea', 'BsmtFullBath', 'BsmtUnfSF', 'BedroomAbvGr',\n",
      "       'ScreenPorch', 'Street', '3SsnPorch', 'PoolArea', 'BsmtFinSF2',\n",
      "       'BsmtHalfBath', 'MiscVal', 'YrSold', 'OverallCond', 'LowQualFinSF',\n",
      "       'KitchenAbvGr'],\n",
      "      dtype='object')\n",
      "mean squared error: 0.01458 - Coefficient of determination: 0.91\n",
      "\n"
     ]
    }
   ],
   "source": [
    "# features = ['OverallQual', 'GrLivArea', 'GarageCars', 'GarageArea', 'TotalBsmtSF', '1stFlrSF', \n",
    "#            'FullBath', 'TotRmsAbvGrd', 'YearBuilt', 'YearRemodAdd', 'Fireplaces']\n",
    "features = df_train.corr()[['SalePrice']].sort_values(by='SalePrice', ascending=False).index[1:]\n",
    "\n",
    "def cumulative_model_features(features):\n",
    "    for i in range(1, len(features)):\n",
    "        features_cumulative = features[0:i]\n",
    "        X_train, X_test, y_train, y_test = train_test_split(df_train[features_cumulative], df_train.SalePrice,\n",
    "                                                        test_size = 0.25, random_state = 0)\n",
    "        model_lr = LinearRegression()\n",
    "        model_lr.fit(X_train, y_train)\n",
    "        y_train_pred = model_lr.predict(X_train)\n",
    "        y_test_pred = model_lr.predict(X_test)\n",
    "        print(features_cumulative)\n",
    "        print(f'mean squared error: %.5f'\n",
    "          % mean_squared_error(y_test, y_test_pred), end='')\n",
    "        print(' - Coefficient of determination: %.2f'\n",
    "          % r2_score(y_test, y_test_pred), end='\\n\\n')\n",
    "    \n",
    "cumulative_model_features(features=features)"
   ]
  },
  {
   "cell_type": "code",
   "execution_count": 19,
   "metadata": {},
   "outputs": [],
   "source": [
    "X_train, X_test, y_train, y_test = train_test_split(df_train[features], df_train.SalePrice, test_size = 0.25, random_state = 0)"
   ]
  },
  {
   "cell_type": "code",
   "execution_count": 20,
   "metadata": {},
   "outputs": [
    {
     "name": "stdout",
     "output_type": "stream",
     "text": [
      "X_train: (1092, 32)\n",
      "X_test: (364, 32)\n",
      "y_train: (1092,)\n",
      "y_test : (364,)\n"
     ]
    }
   ],
   "source": [
    "print(f'X_train: {X_train.shape}')\n",
    "print(f'X_test: {X_test.shape}')\n",
    "print(f'y_train: {y_train.shape}')\n",
    "print(f'y_test : {y_test.shape}')"
   ]
  },
  {
   "cell_type": "code",
   "execution_count": 21,
   "metadata": {},
   "outputs": [
    {
     "data": {
      "text/plain": [
       "LinearRegression()"
      ]
     },
     "execution_count": 21,
     "metadata": {},
     "output_type": "execute_result"
    }
   ],
   "source": [
    "model_lr = LinearRegression()\n",
    "model_lr.fit(X_train, y_train)"
   ]
  },
  {
   "cell_type": "code",
   "execution_count": 22,
   "metadata": {},
   "outputs": [],
   "source": [
    "y_train_pred = model_lr.predict(X_train)\n",
    "y_test_pred = model_lr.predict(X_test)"
   ]
  },
  {
   "cell_type": "code",
   "execution_count": 23,
   "metadata": {},
   "outputs": [
    {
     "name": "stdout",
     "output_type": "stream",
     "text": [
      "Coefficients: \n",
      " [ 6.79787026e-02  1.54142716e-04  2.94370721e-02  1.21357960e-04\n",
      "  1.05069392e-04  1.09167791e-04  1.80706412e-02  3.02595297e-03\n",
      "  1.01508223e-03  1.35721433e-02  3.38953718e-02  8.19782184e-05\n",
      "  7.26069451e-05  2.63153752e-05  1.78241621e-02  8.67734398e-05\n",
      "  3.11239341e-06  3.50614344e-02  1.95894415e-05 -1.40078420e-02\n",
      "  3.10596252e-04  2.68271325e-01  2.79722902e-04  1.32658033e-04\n",
      "  3.50173187e-06  7.18404200e-03 -4.35058846e-06 -6.02438335e-03\n",
      "  5.37498209e-02 -4.17985153e-05 -8.27428770e-02  5.79290972e-05]\n"
     ]
    }
   ],
   "source": [
    "print('Coefficients: \\n', model_lr.coef_)"
   ]
  },
  {
   "cell_type": "code",
   "execution_count": 24,
   "metadata": {},
   "outputs": [
    {
     "name": "stdout",
     "output_type": "stream",
     "text": [
      "Mean squared error: 0.01\n"
     ]
    }
   ],
   "source": [
    "print('Mean squared error: %.2f'\n",
    "      % mean_squared_error(y_test, y_test_pred))"
   ]
  },
  {
   "cell_type": "markdown",
   "metadata": {},
   "source": [
    "#### The coefficient of determination: 1 is perfect prediction"
   ]
  },
  {
   "cell_type": "markdown",
   "metadata": {},
   "source": [
    "The coefficient of determination tells you what proportion of the variance in your predicted variables can be explained by the predictors.\n",
    "\n",
    "If your determination coefficient is 1, your predictors perfectly predict your dependent variables. If it is 0, your predictors tell you nothing about the value of the dependent variable.\n",
    "\n",
    "taken from: https://programmathically.com/the-coefficient-of-determination-and-linear-regression-assumptions/"
   ]
  },
  {
   "cell_type": "code",
   "execution_count": 25,
   "metadata": {},
   "outputs": [
    {
     "name": "stdout",
     "output_type": "stream",
     "text": [
      "Coefficient of determination: 0.91\n"
     ]
    }
   ],
   "source": [
    "print('Coefficient of determination: %.2f'\n",
    "      % r2_score(y_test, y_test_pred))"
   ]
  },
  {
   "cell_type": "markdown",
   "metadata": {},
   "source": [
    "#### Prediction Plot"
   ]
  },
  {
   "cell_type": "code",
   "execution_count": 26,
   "metadata": {},
   "outputs": [
    {
     "data": {
      "image/png": "[encoded data removed]",
      "text/plain": [
       "<Figure size 1152x648 with 1 Axes>"
      ]
     },
     "metadata": {},
     "output_type": "display_data"
    }
   ],
   "source": [
    "plt.scatter(y_train_pred, y_train, color=\"darkblue\")\n",
    "plt.scatter(y_test_pred, y_test, color=\"crimson\")\n",
    "plt.title(\"predicted train vs. predicted test data on 'SalePrice'\")\n",
    "plt.savefig(\"plots/prediction_plot.png\", bbox_inches='tight')"
   ]
  },
  {
   "cell_type": "code",
   "execution_count": null,
   "metadata": {},
   "outputs": [],
   "source": []
  }
 ],
 "metadata": {
  "kernelspec": {
   "display_name": "Python 3",
   "language": "python",
   "name": "python3"
  },
  "language_info": {
   "codemirror_mode": {
    "name": "ipython",
    "version": 3
   },
   "file_extension": ".py",
   "mimetype": "text/x-python",
   "name": "python",
   "nbconvert_exporter": "python",
   "pygments_lexer": "ipython3",
   "version": "3.8.3"
  }
 },
 "nbformat": 4,
 "nbformat_minor": 4
}
